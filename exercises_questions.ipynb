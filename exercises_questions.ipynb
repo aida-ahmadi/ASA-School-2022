{
 "cells": [
  {
   "cell_type": "markdown",
   "metadata": {},
   "source": [
    "# ALMA Science Archive School 2022 (Exercises)\n",
    "#### Authors: Toma Badescu, George Bendo, Aida Ahmadi, Ashley Bemis\n",
    "\n",
    " * This hands-on session is part of the first ALMA Science Archive School taking place in Bologna, Italy, on Oct. 5-7, 2022. \n",
    "\n",
    " * It contains exercises that cover some of the ways one can query the [ALMA Science Archive (ASA)](https://almascience.eso.org/aq/). \n",
    "\n",
    " * Each cell can be executed by pressing <kbd>Shift</kbd>+<kbd>Enter</kbd>. \n",
    " \n",
    " * You may enter your attempts in the empty cells and create new cells by clicking the <kbd>+</kbd> button.\n",
    " \n",
    "This exercise sheet is divided into four parts as follows. In the first three you get to work on some exercises that highlight some of the ways one can query and mine the ALMA Science Archive. In the last part, you get to work on your own research problem and we are happy to help you with your specific case. Feel free to jump between topics and use the allotted time as it is most efficient for you.\n",
    "\n",
    "### [Part 1. pyVO](#pyVO)\n",
    "### [Part 2. astroquery](#astroquery)\n",
    "### [Part 3. ALminer](#alminer)\n",
    "### [Part 4. Your own workstation](#workstation)"
   ]
  },
  {
   "cell_type": "markdown",
   "metadata": {},
   "source": [
    "# Part 1. pyVO<a name=\"pyVO\"></a>\n",
    "\n",
    "pyVO is a python Virtual Observatory (VO) package that is designed for searching and accessing data from archives that use VO standards. Although astroquery can also be used within python to query the ALMA archive, pvVO is the only python tool that is officially supported by the ALMA archive developers.\n",
    "\n",
    "The package can be installed using `pip install pyvo`.\n",
    "\n",
    "This section covers the following topics:\n",
    "\n",
    "* Searching by various parameters (including target position, frequency, and polarization).\n",
    "* Using wildcards (%).\n",
    "* Resolving coordinate names and searching at those coordinates.\n",
    "* Searching using multiple criteria.\n",
    "* Returning only a subset of available columns in the search results.\n",
    "\n",
    "\n",
    "### Resources:\n",
    "\n",
    "* For help on the language that is used in setting up queries see [the ADQL documentation page](https://www.ivoa.net/documents/ADQL/20180112/PR-ADQL-2.1-20180112.html).\n",
    "* For examples on using pyVO to query the ALMA archive see [the series of notebooks on the ALMA Science Portal](https://almascience.eso.org/alma-data/archive/archive-notebooks).\n",
    "\n",
    "\n",
    "### PyVO set-up\n",
    "\n",
    "Aside from the standard import command, an additional command is needed to set up access to the archvie.  Once this is set up, it is possible to perform a large series of searches."
   ]
  },
  {
   "cell_type": "code",
   "execution_count": 2,
   "metadata": {},
   "outputs": [],
   "source": [
    "# Import pvVO:\n",
    "import pyvo\n",
    "\n",
    "# Set up access to the ESO archive:\n",
    "service = pyvo.dal.TAPService(\"https://almascience.eso.org/tap\")\n",
    "\n",
    "# If, for whatever reason, the ESO archive is down, you may use the NRAO/NAOJ mirrors:\n",
    "# service = pyvo.dal.TAPService(\"https://almascience.nrao.edu/tap\")\n",
    "# service = pyvo.dal.TAPService(\"https://almascience.nao.ac.jp/tap\")"
   ]
  },
  {
   "cell_type": "markdown",
   "metadata": {},
   "source": [
    "#### Get all possible column name, their description, and units"
   ]
  },
  {
   "cell_type": "code",
   "execution_count": 14,
   "metadata": {},
   "outputs": [
    {
     "name": "stdout",
     "output_type": "stream",
     "text": [
      "['collections', 'o_ucd', 'schema_index', 'schema_name', 'utype', 'description', 'schema_name', 'table_name', 'table_type', 'utype', 'description', 'table_index', 'table_name', 'column_name', 'utype', 'ucd', 'unit', 'description', 'datatype', 'arraysize', 'xtype', '\"size\"', 'principal', 'indexed', 'std', 'column_index', 'key_id', 'from_table', 'target_table', 'utype', 'description', 'key_id', 'from_column', 'target_column', 'obs_publisher_did', 'obs_collection', 'facility_name', 'instrument_name', 'obs_id', 'dataproduct_type', 'calib_level', 'target_name', 's_ra', 's_dec', 's_fov', 's_region', 's_xel1', 's_xel2', 'em_xel', 't_xel', 'pol_xel', 's_resolution', 't_min', 't_max', 't_exptime', 't_resolution', 'em_min', 'em_max', 'em_res_power', 'pol_states', 'access_url', 'access_format', 'access_estsize', 'proposal_id', 'data_rights', 'gal_longitude', 'gal_latitude', 'band_list', 'em_resolution', 'bandwidth', 'antenna_arrays', 'is_mosaic', 'obs_release_date', 'spatial_resolution', 'frequency_support', 'frequency', 'velocity_resolution', 'obs_creator_name', 'pub_title', 'first_author', 'authors', 'pub_abstract', 'publication_year', 'proposal_abstract', 'schedblock_name', 'proposal_authors', 'sensitivity_10kms', 'cont_sensitivity_bandwidth', 'pwv', 'group_ous_uid', 'member_ous_uid', 'asdm_uid', 'obs_title', 'type', 'scan_intent', 'science_observation', 'spatial_scale_max', 'qa2_passed', 'bib_reference', 'science_keyword', 'scientific_category', 'lastModified']\n",
      "\n",
      "frequency description: Observed (tuned) reference frequency on the sky.\n",
      "\n",
      "frequency units: GHz\n",
      "\n"
     ]
    }
   ],
   "source": [
    "import pandas as pd\n",
    "\n",
    "# Query the metadata\n",
    "metadata_query = \"SELECT column_name, datatype, unit, ucd, utype, description from TAP_SCHEMA.columns\"\n",
    "TAP_metadata = service.search(metadata_query)\n",
    "TAP_metadata_pd = pd.DataFrame(TAP_metadata).set_index('column_name')\n",
    "\n",
    "# print all possible columns\n",
    "pd.set_option('display.max_colwidth', None)\n",
    "print(TAP_metadata_pd.index.to_list())\n",
    "print(\"\")\n",
    "\n",
    "# get the description of a given column (for example, the 'frequency' column)\n",
    "print(\"{} description: {}\\n\".format('frequency', TAP_metadata_pd.loc['frequency', 'description']))\n",
    "\n",
    "# get the units of a given column (for example, the 'frequency' column)\n",
    "print(\"{} units: {}\\n\".format('frequency', TAP_metadata_pd.loc['frequency', 'unit']))"
   ]
  },
  {
   "cell_type": "markdown",
   "metadata": {},
   "source": [
    "### Example 1.1: Search for the coordinates RA=204.253958 and Dec=-29.865417, with a radius of 0.006 degrees"
   ]
  },
  {
   "cell_type": "code",
   "execution_count": null,
   "metadata": {},
   "outputs": [],
   "source": []
  },
  {
   "cell_type": "markdown",
   "metadata": {},
   "source": [
    "Note that the output from the query should be converted to a [PANDAS DataFrame](https://pandas.pydata.org/pandas-docs/stable/reference/frame.html). The pandas.DataFrame object has multiple columns with quantities that can be either printed or used for multiple other purposes. A complete list of the columns in the object can be displayed using 'pandas.DataFrame.columns'. These columns can also be used to perform other queries as you will see further below."
   ]
  },
  {
   "cell_type": "markdown",
   "metadata": {},
   "source": [
    "#### Display the output query table:"
   ]
  },
  {
   "cell_type": "code",
   "execution_count": null,
   "metadata": {},
   "outputs": [],
   "source": []
  },
  {
   "cell_type": "markdown",
   "metadata": {},
   "source": [
    "Note that if you want to display all rows/columns you need to run the following cells first (but beware this may overload your browser and crash the notebook!). Instead, you can save tables to files that can be opened by other programs and read in later too. In the case of pandas.DataFrame, this can be done with [pandas.DataFrame.to_csv()](https://pandas.pydata.org/docs/reference/api/pandas.DataFrame.to_csv.html) function."
   ]
  },
  {
   "cell_type": "code",
   "execution_count": null,
   "metadata": {},
   "outputs": [],
   "source": [
    "# import pandas as pd\n",
    "# pd.set_option('display.max_rows', None)\n",
    "# pd.set_option('display.max_columns', None)"
   ]
  },
  {
   "cell_type": "markdown",
   "metadata": {},
   "source": [
    "#### Display all the column names in the output query:"
   ]
  },
  {
   "cell_type": "code",
   "execution_count": null,
   "metadata": {},
   "outputs": [],
   "source": []
  },
  {
   "cell_type": "markdown",
   "metadata": {},
   "source": [
    "#### Display the unique proposal IDs associated with the search results:"
   ]
  },
  {
   "cell_type": "code",
   "execution_count": null,
   "metadata": {},
   "outputs": [],
   "source": []
  },
  {
   "cell_type": "markdown",
   "metadata": {},
   "source": [
    "#### Plot the right ascension and declination of all fields in the search results using `matplotlib`:"
   ]
  },
  {
   "cell_type": "code",
   "execution_count": null,
   "metadata": {},
   "outputs": [],
   "source": [
    "import matplotlib.pyplot as plt"
   ]
  },
  {
   "cell_type": "code",
   "execution_count": null,
   "metadata": {},
   "outputs": [],
   "source": []
  },
  {
   "cell_type": "markdown",
   "metadata": {},
   "source": [
    "### Example 1.2: Search by ALMA project code (e.g. ALMA Large Program PHANGS 2017.1.00886.L)"
   ]
  },
  {
   "cell_type": "code",
   "execution_count": null,
   "metadata": {},
   "outputs": [],
   "source": []
  },
  {
   "cell_type": "markdown",
   "metadata": {},
   "source": [
    "### Example 1.3: Search for full polarization data & print unique project codes"
   ]
  },
  {
   "cell_type": "code",
   "execution_count": null,
   "metadata": {},
   "outputs": [],
   "source": []
  },
  {
   "cell_type": "markdown",
   "metadata": {},
   "source": [
    "### Example 1.4: Search for all programs from Cycle 6 proposals (project codes beginning with 2018) & print unique project codes"
   ]
  },
  {
   "cell_type": "code",
   "execution_count": null,
   "metadata": {},
   "outputs": [],
   "source": []
  },
  {
   "cell_type": "markdown",
   "metadata": {},
   "source": [
    "### Example 1.5: Search for data by frequency (e.g. all observations covering the range 115.20 to 115.35 GHz) & print unique project codes"
   ]
  },
  {
   "cell_type": "code",
   "execution_count": null,
   "metadata": {},
   "outputs": [],
   "source": []
  },
  {
   "cell_type": "markdown",
   "metadata": {},
   "source": [
    "### Example 1.6: Resolve a source name and search at that position\n",
    "Note that this is not the same as searching by the target name used in the ALMA observations. \n",
    "\n",
    "#### First use `astropy` to obtain the position of the target \"Cen A\":"
   ]
  },
  {
   "cell_type": "code",
   "execution_count": null,
   "metadata": {},
   "outputs": [],
   "source": [
    "import astropy\n",
    "coordinates = astropy.coordinates.SkyCoord.from_name(\"Cen A\")\n",
    "ra=float(coordinates.ra.degree)\n",
    "dec=float(coordinates.dec.degree)"
   ]
  },
  {
   "cell_type": "markdown",
   "metadata": {},
   "source": [
    "#### Now query for the obtained position within a search radius of 0.006 degrees and print the unique project codes:"
   ]
  },
  {
   "cell_type": "code",
   "execution_count": null,
   "metadata": {},
   "outputs": [],
   "source": []
  },
  {
   "cell_type": "markdown",
   "metadata": {},
   "source": [
    "### Example 1.7: Query all Band 3 full polarization data from Cycle 7"
   ]
  },
  {
   "cell_type": "code",
   "execution_count": null,
   "metadata": {},
   "outputs": [],
   "source": []
  },
  {
   "cell_type": "markdown",
   "metadata": {},
   "source": [
    "### Example 1.8: Query by both position and frequency constraints (e.g. combining examples 1.1 and 1.5) but only return the following four columns in the output: proposal_id, member_ous_uid, frequency, bandwidth"
   ]
  },
  {
   "cell_type": "code",
   "execution_count": null,
   "metadata": {},
   "outputs": [],
   "source": []
  },
  {
   "cell_type": "markdown",
   "metadata": {},
   "source": [
    "### Example 1.9: Download data associated with a specific MOUS (e.g. uid___A001_X135b_X6b)\n",
    "\n",
    "Downloading data with pyVO is relatively straightforward, although it is primarily done by one Member OUS at a time.  \n",
    "\n",
    "Note that the Member OUSs need to be formatted with underscores (\\_), whereas the member_ous_id column from pyVO searches are in a different format (see the table in the previous example).  The colon (:) and slashes (/) in the pyVO search results need to be replaced with underscores in this command, as shown in this example:\n",
    "\n",
    "pyVO search output: uid://A001/X135b/X6b\n",
    "\n",
    "pyVO download string: uid\\_\\_\\_A001\\_X135b\\_X6b"
   ]
  },
  {
   "cell_type": "code",
   "execution_count": null,
   "metadata": {},
   "outputs": [],
   "source": []
  },
  {
   "cell_type": "markdown",
   "metadata": {},
   "source": [
    "You should now be able to see some tar files downloaded in your current working directory."
   ]
  },
  {
   "cell_type": "markdown",
   "metadata": {},
   "source": [
    "# Part 2. Astroquery<a name=\"astroquery\"></a>\n",
    "\n",
    "Astroquery is a set of tools for querying astronomical web forms and databases. \n",
    "\n",
    "It can be installed using `pip install --pre astroquery`\n",
    "\n",
    "In this part we use astroquery's catalog and archive search functionality in addition to its line list services to find recent ALMA data on the CO 1-0 transition across M83. This can be adapted to similar extragalactic projects.\n",
    "\n",
    "This section covers the following exercises:\n",
    "1. [Perform an object query of the ALMA science archive](#object_query)\n",
    "2. [Use source redshift to check which ALMA band covers line](#using_redshift)\n",
    "3. [Download ALMA data using Astroquery](#download_data)\n",
    "4. [Send TAP queries (similar to pyVO)](#astroquery_tap)\n",
    "5. [Compare catalogs](#compare_catalogs)\n",
    "\n",
    "### Resources:\n",
    "- If you want to access help for a particular command, type `help(command)` and run the cell\n",
    "- The Astroquery readthedocs is located [here](https://astroquery.readthedocs.io/en/latest/).\n",
    "- We suggest running Astroquery version 0.4.7. Some steps of this tutorial will not work in earlier versions, such as HSA search functionionality or ALMA authentication.\n",
    "- The output of astroquery searches are astropy tables (see [astropy tables documentation page](https://docs.astropy.org/en/stable/table/index.html) for more information on how to work with them).\n",
    "\n",
    "### Astroquery set-up"
   ]
  },
  {
   "cell_type": "code",
   "execution_count": null,
   "metadata": {},
   "outputs": [],
   "source": [
    "# Import Astroquery and check your current working version by doing the following:\n",
    "import astroquery\n",
    "print(\"astroquery version: {}\".format(astroquery.__version__))\n",
    "\n",
    "# Import astroquery's ALMA archive search tool and other useful packages:\n",
    "from astroquery.alma import Alma\n",
    "import numpy as np\n",
    "import astropy.units as u\n",
    "\n",
    "#instantiate alma object/class\n",
    "alma = Alma()\n",
    "\n",
    "# If you have access to proprietary data that you want to work with, you will need to login to your ALMA account:\n",
    "#login_name = \"\"\n",
    "#alma.login(login_name)"
   ]
  },
  {
   "cell_type": "markdown",
   "metadata": {},
   "source": [
    "<a id=\"object_query\"></a>\n",
    "### Example 2.1 Perform an object query of the ALMA science archive\n",
    "\n",
    "We perform an ALMA object query (`alma.query_object`). Astroquery sends the source name to the ALMA Archive, which then resolves the source coordinates using, i.e. Simbad, NED, and Vizier, for matches to the object name. Astroquery returns an astropy table containing information on all of the ALMA archival data towards M83's coordinates.\n",
    "\n",
    "Note that you can instead perform a region search (`alma.query_region`) using Astroquery specifying a search radius. The default ALMA search radius is 10 arcminutes.\n"
   ]
  },
  {
   "cell_type": "markdown",
   "metadata": {},
   "source": [
    "#### Use an object query to search the ALMA archive for M83 observations & print the resulting astropy table:"
   ]
  },
  {
   "cell_type": "code",
   "execution_count": null,
   "metadata": {},
   "outputs": [],
   "source": []
  },
  {
   "cell_type": "markdown",
   "metadata": {},
   "source": [
    "#### Print the column names of the resulting table:"
   ]
  },
  {
   "cell_type": "code",
   "execution_count": null,
   "metadata": {},
   "outputs": [],
   "source": []
  },
  {
   "cell_type": "markdown",
   "metadata": {},
   "source": [
    "#### Select observations by time and ALMA band (e.g. bands 7 & 9 and data that is newer than 2017):"
   ]
  },
  {
   "cell_type": "code",
   "execution_count": null,
   "metadata": {},
   "outputs": [],
   "source": [
    "from datetime import datetime"
   ]
  },
  {
   "cell_type": "code",
   "execution_count": null,
   "metadata": {},
   "outputs": [],
   "source": []
  },
  {
   "cell_type": "markdown",
   "metadata": {},
   "source": [
    "<a id=\"using_redshift\"></a>\n",
    "### Example 2.2 Use source redshift to check which ALMA band covers line\n",
    "\n",
    "Although M83 is fairly close ($z<<1$), it is useful to calculate the redshifted frequency of transitions we are intereted in to be able to carefully check if they fall within the spectral setup of the ALMA observations in the archive."
   ]
  },
  {
   "cell_type": "markdown",
   "metadata": {},
   "source": [
    "#### First query NED to grab the photometric redshift of M83:"
   ]
  },
  {
   "cell_type": "code",
   "execution_count": null,
   "metadata": {},
   "outputs": [],
   "source": [
    "from astroquery.ipac.ned import Ned"
   ]
  },
  {
   "cell_type": "code",
   "execution_count": null,
   "metadata": {},
   "outputs": [],
   "source": []
  },
  {
   "cell_type": "markdown",
   "metadata": {},
   "source": [
    "#### Use Splatalogue to get the rest frequencies of our transition(s) of interest, i.e. CO v=0 lines:"
   ]
  },
  {
   "cell_type": "code",
   "execution_count": null,
   "metadata": {},
   "outputs": [],
   "source": [
    "from astroquery.splatalogue import Splatalogue"
   ]
  },
  {
   "cell_type": "code",
   "execution_count": null,
   "metadata": {},
   "outputs": [],
   "source": []
  },
  {
   "cell_type": "markdown",
   "metadata": {},
   "source": [
    "#### Use ALMA utils to compare the frequency support of the archival ALMA data on M83 with the redshifted frequency of CO v=0 lines:"
   ]
  },
  {
   "cell_type": "code",
   "execution_count": null,
   "metadata": {},
   "outputs": [],
   "source": [
    "from astroquery.alma.utils import parse_frequency_support"
   ]
  },
  {
   "cell_type": "code",
   "execution_count": null,
   "metadata": {},
   "outputs": [],
   "source": []
  },
  {
   "cell_type": "markdown",
   "metadata": {},
   "source": [
    "<a id=\"download_data\"></a>\n",
    "### Example 2.3 Download ALMA data associated with the previous example using Astroquery\n",
    "\n",
    "Once you have decided which data you would like to work with locally, you can download it from the archive using the `access_url` provided in the astropy table. `alma.get_data_info` can be used to further list what is in each tarfile in the archive."
   ]
  },
  {
   "cell_type": "markdown",
   "metadata": {},
   "source": [
    "#### First find only results with unique `member_ous_uid` in order to avoid downloading duplicates:"
   ]
  },
  {
   "cell_type": "code",
   "execution_count": null,
   "metadata": {},
   "outputs": [],
   "source": [
    "from astropy.table import unique"
   ]
  },
  {
   "cell_type": "markdown",
   "metadata": {},
   "source": [
    "#### List what is in the first two archives (to cut down on time):\n",
    "(Note: this may take some time)"
   ]
  },
  {
   "cell_type": "code",
   "execution_count": null,
   "metadata": {},
   "outputs": [],
   "source": []
  },
  {
   "cell_type": "markdown",
   "metadata": {},
   "source": [
    "#### Make a list of only the FITS files and print the URLs:"
   ]
  },
  {
   "cell_type": "code",
   "execution_count": null,
   "metadata": {},
   "outputs": [],
   "source": []
  },
  {
   "cell_type": "markdown",
   "metadata": {},
   "source": [
    "#### Set a local cache for the data and download:"
   ]
  },
  {
   "cell_type": "code",
   "execution_count": null,
   "metadata": {},
   "outputs": [],
   "source": []
  },
  {
   "cell_type": "markdown",
   "metadata": {},
   "source": [
    "<a id=\"astroquery_tap\"></a>\n",
    "### Example 2.4: Use astroquery to send TAP queries (similar to pyVO)"
   ]
  },
  {
   "cell_type": "markdown",
   "metadata": {},
   "source": [
    "### Query all observations with central frequencies between 300 and 400 GHz, sensitivity better than 0.5 mJy/beam @ 10 km/s, and science_keyword containing the word 'disk'"
   ]
  },
  {
   "cell_type": "code",
   "execution_count": null,
   "metadata": {},
   "outputs": [],
   "source": []
  },
  {
   "cell_type": "markdown",
   "metadata": {},
   "source": [
    "<a id=\"compare_catalogs\"></a>\n",
    "### Example 2.5: Compare data catalogs"
   ]
  },
  {
   "cell_type": "markdown",
   "metadata": {},
   "source": [
    "#### First perform a conesearch query (~1 degree) at the position of the COSMOS field centre (RA=10h00m24s, Dec=+02d10m55s) to the ALMA Science Archive:"
   ]
  },
  {
   "cell_type": "code",
   "execution_count": null,
   "metadata": {},
   "outputs": [],
   "source": []
  },
  {
   "cell_type": "markdown",
   "metadata": {},
   "source": [
    "#### Use astroquery to query the Herschel Science Archive:"
   ]
  },
  {
   "cell_type": "code",
   "execution_count": null,
   "metadata": {},
   "outputs": [],
   "source": []
  },
  {
   "cell_type": "markdown",
   "metadata": {},
   "source": [
    "#### Find what column names are associated with the RA/Dec in the Herschel results:"
   ]
  },
  {
   "cell_type": "code",
   "execution_count": null,
   "metadata": {},
   "outputs": [],
   "source": []
  },
  {
   "cell_type": "markdown",
   "metadata": {},
   "source": [
    "#### Cross-match the two catalogs:"
   ]
  },
  {
   "cell_type": "code",
   "execution_count": null,
   "metadata": {},
   "outputs": [],
   "source": []
  },
  {
   "cell_type": "code",
   "execution_count": null,
   "metadata": {},
   "outputs": [],
   "source": []
  },
  {
   "cell_type": "markdown",
   "metadata": {},
   "source": [
    "# Part 3: ALminer<a name=\"alminer\"></a>\n",
    "\n",
    "ALminer is a Python-based code to effectively query, analyse, and visualize the ALMA Science Archive (ASA). It uses pyVO to query the ASA in a simple and easy-to-use way and has useful visualisations that help with filtering the queries further. It also allows users to directly download ALMA data products and/or raw data for further image processing.\n",
    "\n",
    "The package can be installed using `pip install alminer`.\n",
    "\n",
    "### Resources:\n",
    "\n",
    "- [ALminer documentation](https://alminer.readthedocs.io/en/latest/) can be found on readthedocs.\n",
    "- The most recent version of the code can be found on [GitHub](https://github.com/emerge-erc/ALminer).\n",
    "- It contains an [extensive tutorial Jupyter Notebook](https://nbviewer.org/github/emerge-erc/ALminer/blob/main/notebooks/tutorial/ALminer_tutorial.ipynb?flush_cache=True) where all alminer features have been highlighted.\n",
    "- Here is a list of all other possible [scientific categories](https://alminer.readthedocs.io/en/latest/pages/scientific_categories.html) and [keywords](https://alminer.readthedocs.io/en/latest/pages/science_keywords.html) for the `alminer.keysearch` function. \n",
    "\n",
    "### ALminer setup"
   ]
  },
  {
   "cell_type": "code",
   "execution_count": null,
   "metadata": {},
   "outputs": [],
   "source": [
    "import alminer"
   ]
  },
  {
   "cell_type": "markdown",
   "metadata": {},
   "source": [
    "### Example 3.1: Query a list of protoplanetary disks by their names (e.g. HL Tau, AB Aur, DG Tau)\n",
    "* Note that the names must be known objects in SIMBAD, VizieR, or NED\n",
    "* Use the NRAO service for the moment."
   ]
  },
  {
   "cell_type": "code",
   "execution_count": null,
   "metadata": {},
   "outputs": [],
   "source": []
  },
  {
   "cell_type": "markdown",
   "metadata": {},
   "source": [
    "#### Display the query results as a table, and show all rows and columns:"
   ]
  },
  {
   "cell_type": "code",
   "execution_count": null,
   "metadata": {},
   "outputs": [],
   "source": []
  },
  {
   "cell_type": "markdown",
   "metadata": {},
   "source": [
    "### Example 3.2: Query an object by its coordinates (RA=201.365063, Dec=-43.019112) and a search radius of 10 arcmin"
   ]
  },
  {
   "cell_type": "code",
   "execution_count": null,
   "metadata": {},
   "outputs": [],
   "source": []
  },
  {
   "cell_type": "markdown",
   "metadata": {},
   "source": [
    "### Example 3.3: Query for full polarization data in the science keyword 'disks around low-mass stars'"
   ]
  },
  {
   "cell_type": "code",
   "execution_count": null,
   "metadata": {},
   "outputs": [],
   "source": []
  },
  {
   "cell_type": "markdown",
   "metadata": {},
   "source": [
    "### Example 3.4: Search for all projects in the scientific category 'Galaxy evolution' that contain the words 'star formation' AND outflow in their abstracts\n",
    "\n",
    "Note that this is a large query that may take a while to run. Make sure to turn of the feature that prints the target names."
   ]
  },
  {
   "cell_type": "code",
   "execution_count": null,
   "metadata": {},
   "outputs": [],
   "source": []
  },
  {
   "cell_type": "markdown",
   "metadata": {},
   "source": [
    "### Example 3.5: Search for all projects in the scientific category 'Galaxy evolution' that contain the words 'star formation' OR outflow in their abstracts"
   ]
  },
  {
   "cell_type": "code",
   "execution_count": null,
   "metadata": {},
   "outputs": [],
   "source": []
  },
  {
   "cell_type": "markdown",
   "metadata": {},
   "source": [
    "#### Plot an overview of the query results:"
   ]
  },
  {
   "cell_type": "code",
   "execution_count": null,
   "metadata": {},
   "outputs": [],
   "source": []
  },
  {
   "cell_type": "markdown",
   "metadata": {},
   "source": [
    "### Example 3.6: Filter the results of the query in the previous example to contain only observations with angular resolutions < 3\" & velocity resolution < 60 km/s\n",
    "Hint: The query results is a pandas.DataFrame. You can print all columns by `pandas.DataFrame.columns` command where pandas.DataFrame is your query results. To get the description and units of a given column use the `alminer` command `alminer.get_info(column_name)`."
   ]
  },
  {
   "cell_type": "code",
   "execution_count": null,
   "metadata": {},
   "outputs": [],
   "source": []
  },
  {
   "cell_type": "code",
   "execution_count": null,
   "metadata": {},
   "outputs": [],
   "source": []
  },
  {
   "cell_type": "markdown",
   "metadata": {},
   "source": [
    "#### Print the summary and plot the overview again, highlighting CO & its isotopologues:"
   ]
  },
  {
   "cell_type": "code",
   "execution_count": null,
   "metadata": {},
   "outputs": [],
   "source": []
  },
  {
   "cell_type": "code",
   "execution_count": null,
   "metadata": {},
   "outputs": [],
   "source": []
  },
  {
   "cell_type": "markdown",
   "metadata": {},
   "source": [
    "### Example 3.7: Search whether any CO lines and its isotopologues are covered in the above observations\n",
    "Note that if you are interested in observations of targets at high-redshift, you can specify a redshift using the 'z' parameter."
   ]
  },
  {
   "cell_type": "code",
   "execution_count": null,
   "metadata": {},
   "outputs": [],
   "source": []
  },
  {
   "cell_type": "markdown",
   "metadata": {},
   "source": [
    "### Example 3.8: Search whether a given frequency is covered in the observations"
   ]
  },
  {
   "cell_type": "code",
   "execution_count": null,
   "metadata": {},
   "outputs": [],
   "source": []
  },
  {
   "cell_type": "markdown",
   "metadata": {},
   "source": [
    "#### Highlight this frequency in the overview plots:"
   ]
  },
  {
   "cell_type": "code",
   "execution_count": null,
   "metadata": {},
   "outputs": [],
   "source": []
  },
  {
   "cell_type": "markdown",
   "metadata": {},
   "source": [
    "### Example 3.9: Download all data products (raw + products) pertaining to the observations in example 3.7"
   ]
  },
  {
   "cell_type": "code",
   "execution_count": null,
   "metadata": {},
   "outputs": [],
   "source": []
  },
  {
   "cell_type": "markdown",
   "metadata": {},
   "source": [
    "### Example 3.10: Download only continuum FITS images for the science target pertaining to the observations in example 3.8"
   ]
  },
  {
   "cell_type": "code",
   "execution_count": null,
   "metadata": {},
   "outputs": [],
   "source": []
  },
  {
   "cell_type": "markdown",
   "metadata": {},
   "source": [
    "### Example 3.11: Send a pyVO query using ALminer (e.g. the same query as Example 2.4) and convert it to ALminer format"
   ]
  },
  {
   "cell_type": "code",
   "execution_count": null,
   "metadata": {},
   "outputs": [],
   "source": []
  },
  {
   "cell_type": "markdown",
   "metadata": {},
   "source": [
    "Now you can use all the analysis and plotting routines presented before on these observations."
   ]
  },
  {
   "cell_type": "markdown",
   "metadata": {},
   "source": [
    "# Part 4: Your workstation\n",
    "\n",
    "In this section you can make your own queries by using any of the introduced methods. Feel free to request help from any of us in the room. \n",
    "\n",
    "Happy mining!"
   ]
  },
  {
   "cell_type": "code",
   "execution_count": null,
   "metadata": {},
   "outputs": [],
   "source": []
  }
 ],
 "metadata": {
  "kernelspec": {
   "display_name": "Python 3 (ipykernel)",
   "language": "python",
   "name": "python3"
  },
  "language_info": {
   "codemirror_mode": {
    "name": "ipython",
    "version": 3
   },
   "file_extension": ".py",
   "mimetype": "text/x-python",
   "name": "python",
   "nbconvert_exporter": "python",
   "pygments_lexer": "ipython3",
   "version": "3.9.13"
  }
 },
 "nbformat": 4,
 "nbformat_minor": 2
}
